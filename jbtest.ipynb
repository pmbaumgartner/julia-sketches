{
 "cells": [
  {
   "cell_type": "code",
   "execution_count": 9,
   "source": [
    "using Pkg; Pkg.status()"
   ],
   "outputs": [
    {
     "output_type": "stream",
     "name": "stdout",
     "text": [
      "\u001b[32m\u001b[1m      Status\u001b[22m\u001b[39m `~/projects/genart/jl-vsketch/Project.toml`\n",
      " \u001b[90m [6e4b80f9] \u001b[39mBenchmarkTools v1.2.0\n"
     ]
    },
    {
     "output_type": "stream",
     "name": "stdout",
     "text": [
      " \u001b[90m [864edb3b] \u001b[39mDataStructures v0.18.10\n",
      " \u001b[90m [cc61a311] \u001b[39mFLoops v0.1.11\n",
      " \u001b[90m [28b8d3ca] \u001b[39mGR v0.59.0\n",
      " \u001b[90m [a90b1aa1] \u001b[39mLibGEOS v0.6.8\n",
      " \u001b[90m [b8a86587] \u001b[39mNearestNeighbors v0.4.9\n",
      " \u001b[90m [d96e819e] \u001b[39mParameters v0.12.3\n",
      " \u001b[90m [91a5bcdd] \u001b[39mPlots v1.22.4\n",
      " \u001b[90m [c3e4b0f8] \u001b[39mPluto v0.16.1\n",
      " \u001b[90m [438e738f] \u001b[39mPyCall v1.92.3\n",
      " \u001b[90m [d330b81b] \u001b[39mPyPlot v2.10.0\n",
      " \u001b[90m [90137ffa] \u001b[39mStaticArrays v1.2.13\n"
     ]
    }
   ],
   "metadata": {}
  },
  {
   "cell_type": "code",
   "execution_count": 2,
   "source": [
    "println(\"Notebook\")"
   ],
   "outputs": [
    {
     "output_type": "stream",
     "name": "stdout",
     "text": [
      "Notebook\n"
     ]
    }
   ],
   "metadata": {}
  },
  {
   "cell_type": "code",
   "execution_count": null,
   "source": [],
   "outputs": [],
   "metadata": {}
  }
 ],
 "metadata": {
  "orig_nbformat": 4,
  "language_info": {
   "name": "julia",
   "version": "1.6.3",
   "mimetype": "application/julia",
   "file_extension": ".jl"
  },
  "kernelspec": {
   "display_name": "Julia 1.6.3",
   "language": "julia",
   "name": "julia-1.6"
  }
 },
 "nbformat": 4,
 "nbformat_minor": 2
}